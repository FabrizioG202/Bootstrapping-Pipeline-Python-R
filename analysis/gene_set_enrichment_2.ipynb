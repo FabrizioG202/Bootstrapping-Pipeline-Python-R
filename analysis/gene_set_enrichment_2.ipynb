{
 "cells": [
  {
   "cell_type": "code",
   "execution_count": 148,
   "metadata": {},
   "outputs": [],
   "source": [
    "from src.cluster_description import Cluster, ClustersDescription\n",
    "import pyranges as pr\n",
    "import numpy as np\n",
    "\n",
    "_GMT_PATH = \"./data/c5.go.bp.v7.5.1.entrez.gmt\"\n",
    "_FANTOM_PATH = \"./data/FANTOM5_CAGE_peak_entrez_gene_tbl.tsv\"\n",
    "\n",
    "# Parses the GMT file returining a dict containing for each \n",
    "# Returns a dictionary mapping each gene entrez id to the ontology group it belongs to.\n",
    "def parse_gmt(path: str) -> dict[str, list[str]]:\n",
    "    # Create a dictionary to store the results\n",
    "    results = {}\n",
    "\n",
    "    # Open the GMT file\n",
    "    with open(path, \"r\") as f:\n",
    "        # For each line in the file\n",
    "        for line in f:\n",
    "            # Split the line into a list of words\n",
    "            words = line.split(\"\\t\")\n",
    "\n",
    "            # The motif name\n",
    "            gene_set = words[0]\n",
    "            link = words[1]\n",
    "            genes = words[2:]\n",
    "            # strip each gene\n",
    "            genes = [gene.strip() for gene in genes]\n",
    "\n",
    "            # Add the gene set to the dictionary\n",
    "            results[gene_set] = [link, genes]\n",
    "\n",
    "    # invert the dictionary\n",
    "    gmt_inverse : dict[str, list[str]] = {}\n",
    "\n",
    "    # For each gene set\n",
    "    for gene_set, (link, genes) in results.items():\n",
    "        for gene in genes:\n",
    "            if gene not in gmt_inverse:\n",
    "                gmt_inverse[gene] = []\n",
    "            gmt_inverse[gene].append(gene_set)\n",
    "        \n",
    "    return gmt_inverse, list(results.keys())\n",
    "\n",
    "# read the table from the path\n",
    "def parse_fantom_data(path: str) -> dict[str, str]:\n",
    "    # Create a dictionary to store the results\n",
    "    results: dict[str, str] = {}\n",
    "\n",
    "    header_found = False\n",
    "\n",
    "    # Open the file\n",
    "    with open(path, \"r\") as f:\n",
    "        # For each line in the file\n",
    "        for line in f:\n",
    "            # Go to the next line if it starts with a #\n",
    "            if line.startswith(\"#\"):\n",
    "                continue\n",
    "\n",
    "            # deal with the header\n",
    "            if not header_found:\n",
    "                header_found = True\n",
    "                continue\n",
    "\n",
    "            # Split the line into a list of words\n",
    "            words = line.split(\"\\t\")\n",
    "            cage_id = words[0].strip()\n",
    "            entrez_id = words[1].strip()\n",
    "\n",
    "            # Add the gene to the dictionary\n",
    "            results[cage_id] = entrez_id\n",
    "        \n",
    "    # Return the results\n",
    "    return results\n",
    "\n",
    "# Maps the given entry id to the gene entrez id\n",
    "def overlaps_to_entrez(overlaps: list[str], peak_to_entrez : dict[str, str]) -> list[str]:\n",
    "    entrez_ids = []\n",
    "    for overlap in overlaps:\n",
    "        entrez_ids.append(peak_to_entrez.get(overlap, None))\n",
    "    \n",
    "    # Remove duplicates and NAs\n",
    "    entrez_ids = [entrez_id for entrez_id in entrez_ids if entrez_id not in [\"NA\", None]]\n",
    "    return entrez_ids\n",
    "\n",
    "# Return the ontology group to which each entrez id belongs to.\n",
    "def map_entrez_to_ontology(entrez_ids: list[str], gene_ontology : dict[str, str]) -> list[str]:\n",
    "    ontology_hist = {}\n",
    "    unknown_entrez_ids = []\n",
    "    for entrez_id in entrez_ids:\n",
    "        if entrez_id not in gene_ontology:\n",
    "            unknown_entrez_ids.append(entrez_id)\n",
    "            continue\n",
    "        ontology_groups = gene_ontology[entrez_id]\n",
    "\n",
    "        for ontology_group in ontology_groups:\n",
    "            if ontology_group not in ontology_hist:\n",
    "                ontology_hist[ontology_group] = 0\n",
    "            ontology_hist[ontology_group] += 1\n",
    "    \n",
    "    return ontology_hist, unknown_entrez_ids\n",
    "\n",
    "\n",
    "def get_groups_for_features(features: list[str], peak_to_entrez: dict[str, str], gene_ontology : dict[str, str]) -> dict[str, int]:\n",
    "    # Get the entrez ids\n",
    "    entrez_ids = overlaps_to_entrez(features, peak_to_entrez)\n",
    "\n",
    "    # Removing duplicates\n",
    "    entrez_ids = list(set(entrez_ids))\n",
    "        \n",
    "    # Get the ontology\n",
    "    groups, _ = map_entrez_to_ontology(entrez_ids, gene_ontology)\n",
    "    \n",
    "    # Return the groups\n",
    "    return groups, len(entrez_ids)\n",
    "\n",
    "# Reading the data.\n",
    "peak_to_entrez = parse_fantom_data(_FANTOM_PATH)\n",
    "gene_ontology, gene_sets = parse_gmt(_GMT_PATH)"
   ]
  },
  {
   "cell_type": "markdown",
   "metadata": {},
   "source": [
    "### Getting the Background Data.\n",
    "The expression of genes is "
   ]
  },
  {
   "cell_type": "code",
   "execution_count": 152,
   "metadata": {},
   "outputs": [],
   "source": [
    "# Getting the background\n",
    "background = pr.read_bed(f\"../data/features/HMEC/CAGE/features.bed\")\n",
    "\n",
    "# Getting the representation \n",
    "feature_names = background.Name.values.flatten()\n",
    "expected_groups, population_size = get_groups_for_features(feature_names, peak_to_entrez, gene_ontology)"
   ]
  },
  {
   "cell_type": "markdown",
   "metadata": {},
   "source": [
    "### Reading the Observed Data"
   ]
  },
  {
   "cell_type": "code",
   "execution_count": 153,
   "metadata": {},
   "outputs": [],
   "source": [
    "# Read the information about the cluster enriched in both\n",
    "ENRICHED_IN_BOTH_PATH = \"../results/intersected.tsv\"\n",
    "\n",
    "def parse_enrichment_file(path : str):\n",
    "    results = {}\n",
    "\n",
    "    with open(path, \"r\") as f:\n",
    "        for line in f:\n",
    "            words = line.split(\"\\t\")\n",
    "            chromosome = words[0].strip()\n",
    "            clusters = [w.strip() for w in words[1:]]\n",
    "\n",
    "            results[chromosome] = clusters\n",
    "\n",
    "    return results\n",
    "\n",
    "enriched_clusters = parse_enrichment_file(ENRICHED_IN_BOTH_PATH)"
   ]
  },
  {
   "cell_type": "code",
   "execution_count": 135,
   "metadata": {},
   "outputs": [],
   "source": [
    "# Reading the features.\n",
    "features = pr.read_bed(\"../data/features/HMEC/CAGE/features.bed\")\n",
    "\n",
    "observed_genes = []\n",
    "\n",
    "for chromo, clusters_names in enriched_clusters.items():\n",
    "    # Reading the clusters.\n",
    "    clusters = ClustersDescription(f\"../data/clusters/HMEC/{chromo}_spec_res.json\", chromo)\n",
    "    \n",
    "    # Looping over the cluster (strings)\n",
    "    for cluster in clusters_names:\n",
    "\n",
    "        # Getting the actual cluster object\n",
    "        cluster = clusters[cluster]\n",
    "\n",
    "        # Counting the overlaps\n",
    "        overlaps = cluster.find_overlaps(chromo, features)\n",
    "        overlaps_names = overlaps.Name.values.flatten()\n",
    "        \n",
    "        # Getting the observed genes\n",
    "        observed_genes.extend(overlaps_to_entrez(overlaps_names, peak_to_entrez))\n",
    "\n",
    "        # removing duplicates\n",
    "        observed_genes = list(set(observed_genes))\n",
    "\n",
    "observed_groups, _ = map_entrez_to_ontology(observed_genes, gene_ontology)"
   ]
  },
  {
   "cell_type": "code",
   "execution_count": 170,
   "metadata": {},
   "outputs": [],
   "source": [
    "from scipy.stats import hypergeom\n",
    "\n",
    "# The p_values\n",
    "p_values = {}\n",
    "\n",
    "for _set in gene_sets:\n",
    "    # run the hypergeometric test\n",
    "    M = population_size # population size\n",
    "    n = expected_groups.get(_set, 0) # number of successes in the population\n",
    "    N = len(observed_genes) # size of the sample\n",
    "    x = observed_groups.get(_set, 0) # number of successes in the sample\n",
    "\n",
    "    p_value = hypergeom.sf(x-1, M, n, N)\n",
    "    p_values[_set] = [p_value, x, n]"
   ]
  },
  {
   "cell_type": "code",
   "execution_count": 171,
   "metadata": {},
   "outputs": [],
   "source": [
    "# Convert the values to a dataframe\n",
    "import pandas as pd\n",
    "p_values_df = pd.DataFrame(p_values).T "
   ]
  },
  {
   "cell_type": "code",
   "execution_count": 173,
   "metadata": {},
   "outputs": [],
   "source": [
    "# Add the column names\n",
    "p_values_df.columns = [\"p_value\", \"observed\", \"expected\"]"
   ]
  },
  {
   "cell_type": "code",
   "execution_count": 175,
   "metadata": {},
   "outputs": [
    {
     "data": {
      "text/plain": [
       "(14140, 959)"
      ]
     },
     "execution_count": 175,
     "metadata": {},
     "output_type": "execute_result"
    }
   ],
   "source": [
    "M, N"
   ]
  },
  {
   "cell_type": "code",
   "execution_count": 176,
   "metadata": {},
   "outputs": [
    {
     "data": {
      "text/html": [
       "<div>\n",
       "<style scoped>\n",
       "    .dataframe tbody tr th:only-of-type {\n",
       "        vertical-align: middle;\n",
       "    }\n",
       "\n",
       "    .dataframe tbody tr th {\n",
       "        vertical-align: top;\n",
       "    }\n",
       "\n",
       "    .dataframe thead th {\n",
       "        text-align: right;\n",
       "    }\n",
       "</style>\n",
       "<table border=\"1\" class=\"dataframe\">\n",
       "  <thead>\n",
       "    <tr style=\"text-align: right;\">\n",
       "      <th></th>\n",
       "      <th>p_value</th>\n",
       "      <th>observed</th>\n",
       "      <th>expected</th>\n",
       "    </tr>\n",
       "  </thead>\n",
       "  <tbody>\n",
       "    <tr>\n",
       "      <th>GOBP_MITOCHONDRIAL_GENOME_MAINTENANCE</th>\n",
       "      <td>0.771436</td>\n",
       "      <td>1.0</td>\n",
       "      <td>21.0</td>\n",
       "    </tr>\n",
       "    <tr>\n",
       "      <th>GOBP_REPRODUCTION</th>\n",
       "      <td>0.751646</td>\n",
       "      <td>62.0</td>\n",
       "      <td>984.0</td>\n",
       "    </tr>\n",
       "    <tr>\n",
       "      <th>GOBP_SINGLE_STRAND_BREAK_REPAIR</th>\n",
       "      <td>0.144052</td>\n",
       "      <td>2.0</td>\n",
       "      <td>10.0</td>\n",
       "    </tr>\n",
       "    <tr>\n",
       "      <th>GOBP_REGULATION_OF_DNA_RECOMBINATION</th>\n",
       "      <td>0.482467</td>\n",
       "      <td>8.0</td>\n",
       "      <td>111.0</td>\n",
       "    </tr>\n",
       "    <tr>\n",
       "      <th>GOBP_REGULATION_OF_MITOTIC_RECOMBINATION</th>\n",
       "      <td>0.040042</td>\n",
       "      <td>2.0</td>\n",
       "      <td>5.0</td>\n",
       "    </tr>\n",
       "    <tr>\n",
       "      <th>...</th>\n",
       "      <td>...</td>\n",
       "      <td>...</td>\n",
       "      <td>...</td>\n",
       "    </tr>\n",
       "    <tr>\n",
       "      <th>GOBP_REGULATION_OF_UNSATURATED_FATTY_ACID_BIOSYNTHETIC_PROCESS</th>\n",
       "      <td>1.000000</td>\n",
       "      <td>0.0</td>\n",
       "      <td>8.0</td>\n",
       "    </tr>\n",
       "    <tr>\n",
       "      <th>GOBP_POSITIVE_REGULATION_OF_UNSATURATED_FATTY_ACID_BIOSYNTHETIC_PROCESS</th>\n",
       "      <td>1.000000</td>\n",
       "      <td>0.0</td>\n",
       "      <td>5.0</td>\n",
       "    </tr>\n",
       "    <tr>\n",
       "      <th>GOBP_REGULATION_OF_CAVEOLIN_MEDIATED_ENDOCYTOSIS</th>\n",
       "      <td>1.000000</td>\n",
       "      <td>0.0</td>\n",
       "      <td>5.0</td>\n",
       "    </tr>\n",
       "    <tr>\n",
       "      <th>GOBP_MALONYL_COA_METABOLIC_PROCESS</th>\n",
       "      <td>0.343915</td>\n",
       "      <td>1.0</td>\n",
       "      <td>6.0</td>\n",
       "    </tr>\n",
       "    <tr>\n",
       "      <th>GOBP_LIPOXIN_METABOLIC_PROCESS</th>\n",
       "      <td>1.000000</td>\n",
       "      <td>0.0</td>\n",
       "      <td>4.0</td>\n",
       "    </tr>\n",
       "  </tbody>\n",
       "</table>\n",
       "<p>7658 rows × 3 columns</p>\n",
       "</div>"
      ],
      "text/plain": [
       "                                                     p_value  observed  \\\n",
       "GOBP_MITOCHONDRIAL_GENOME_MAINTENANCE               0.771436       1.0   \n",
       "GOBP_REPRODUCTION                                   0.751646      62.0   \n",
       "GOBP_SINGLE_STRAND_BREAK_REPAIR                     0.144052       2.0   \n",
       "GOBP_REGULATION_OF_DNA_RECOMBINATION                0.482467       8.0   \n",
       "GOBP_REGULATION_OF_MITOTIC_RECOMBINATION            0.040042       2.0   \n",
       "...                                                      ...       ...   \n",
       "GOBP_REGULATION_OF_UNSATURATED_FATTY_ACID_BIOSY...  1.000000       0.0   \n",
       "GOBP_POSITIVE_REGULATION_OF_UNSATURATED_FATTY_A...  1.000000       0.0   \n",
       "GOBP_REGULATION_OF_CAVEOLIN_MEDIATED_ENDOCYTOSIS    1.000000       0.0   \n",
       "GOBP_MALONYL_COA_METABOLIC_PROCESS                  0.343915       1.0   \n",
       "GOBP_LIPOXIN_METABOLIC_PROCESS                      1.000000       0.0   \n",
       "\n",
       "                                                    expected  \n",
       "GOBP_MITOCHONDRIAL_GENOME_MAINTENANCE                   21.0  \n",
       "GOBP_REPRODUCTION                                      984.0  \n",
       "GOBP_SINGLE_STRAND_BREAK_REPAIR                         10.0  \n",
       "GOBP_REGULATION_OF_DNA_RECOMBINATION                   111.0  \n",
       "GOBP_REGULATION_OF_MITOTIC_RECOMBINATION                 5.0  \n",
       "...                                                      ...  \n",
       "GOBP_REGULATION_OF_UNSATURATED_FATTY_ACID_BIOSY...       8.0  \n",
       "GOBP_POSITIVE_REGULATION_OF_UNSATURATED_FATTY_A...       5.0  \n",
       "GOBP_REGULATION_OF_CAVEOLIN_MEDIATED_ENDOCYTOSIS         5.0  \n",
       "GOBP_MALONYL_COA_METABOLIC_PROCESS                       6.0  \n",
       "GOBP_LIPOXIN_METABOLIC_PROCESS                           4.0  \n",
       "\n",
       "[7658 rows x 3 columns]"
      ]
     },
     "execution_count": 176,
     "metadata": {},
     "output_type": "execute_result"
    }
   ],
   "source": [
    "p_values_df"
   ]
  },
  {
   "cell_type": "code",
   "execution_count": 181,
   "metadata": {},
   "outputs": [
    {
     "data": {
      "text/plain": [
       "<seaborn.axisgrid.FacetGrid at 0x27533d2d150>"
      ]
     },
     "execution_count": 181,
     "metadata": {},
     "output_type": "execute_result"
    },
    {
     "data": {
      "image/png": "[encoded data removed]",
      "text/plain": [
       "<Figure size 360x360 with 1 Axes>"
      ]
     },
     "metadata": {
      "needs_background": "light"
     },
     "output_type": "display_data"
    },
    {
     "data": {
      "image/png": "[encoded data removed]",
      "text/plain": [
       "<Figure size 360x360 with 1 Axes>"
      ]
     },
     "metadata": {
      "needs_background": "light"
     },
     "output_type": "display_data"
    }
   ],
   "source": [
    "# apply fdr correction\n",
    "import statsmodels.stats.multitest as smm\n",
    "\n",
    "p_values_df[\"q_value\"] = smm.multipletests(p_values_df[\"p_value\"], method=\"fdr_bh\")[1]"
   ]
  }
 ],
 "metadata": {
  "interpreter": {
   "hash": "f6a9dc70ef1d9ac109a6adb4c16e68d584d15afe2d26145e4986863f3d6029bd"
  },
  "kernelspec": {
   "display_name": "Python 3.10.3 64-bit",
   "language": "python",
   "name": "python3"
  },
  "language_info": {
   "codemirror_mode": {
    "name": "ipython",
    "version": 3
   },
   "file_extension": ".py",
   "mimetype": "text/x-python",
   "name": "python",
   "nbconvert_exporter": "python",
   "pygments_lexer": "ipython3",
   "version": "3.10.3"
  },
  "orig_nbformat": 4
 },
 "nbformat": 4,
 "nbformat_minor": 2
}
