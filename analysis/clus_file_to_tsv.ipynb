{
 "cells": [
  {
   "cell_type": "code",
   "execution_count": 7,
   "metadata": {},
   "outputs": [],
   "source": [
    "from src.clus_files_io import parse_clus_file\n",
    "\n",
    "CAGE_CLUS_FILE = \"../analysis_results/cage.CLUS\"\n",
    "\n",
    "# Parse the CAGE cluster file\n",
    "cage_clusters = parse_clus_file(CAGE_CLUS_FILE)\n",
    "\n",
    "out = \"\"\n",
    "for chromo, clusters in cage_clusters.items():\n",
    "    for cluster in clusters:\n",
    "        out += \"{}\\t{}\\n\".format(chromo, cluster)\n",
    "\n",
    "# Write the output to a file\n",
    "with open(\"../analysis_results/cage.CLUS.tsv\", \"w\") as f:\n",
    "    f.write(out)"
   ]
  }
 ],
 "metadata": {
  "interpreter": {
   "hash": "f6a9dc70ef1d9ac109a6adb4c16e68d584d15afe2d26145e4986863f3d6029bd"
  },
  "kernelspec": {
   "display_name": "Python 3.10.3 64-bit",
   "language": "python",
   "name": "python3"
  },
  "language_info": {
   "codemirror_mode": {
    "name": "ipython",
    "version": 3
   },
   "file_extension": ".py",
   "mimetype": "text/x-python",
   "name": "python",
   "nbconvert_exporter": "python",
   "pygments_lexer": "ipython3",
   "version": "3.10.3"
  },
  "orig_nbformat": 4
 },
 "nbformat": 4,
 "nbformat_minor": 2
}
