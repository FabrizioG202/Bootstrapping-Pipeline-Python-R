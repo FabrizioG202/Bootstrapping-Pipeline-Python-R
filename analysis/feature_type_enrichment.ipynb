{
 "cells": [
  {
   "cell_type": "markdown",
   "metadata": {},
   "source": [
    "# File input and parsing."
   ]
  },
  {
   "cell_type": "code",
   "execution_count": 6,
   "metadata": {},
   "outputs": [],
   "source": [
    "import pyranges as pr \n",
    "from src.cluster_description import ClustersDescription\n",
    "from src.clus_files_io import parse_clus_file\n",
    "\n",
    "FEATURE_TYPE_PATH = \"./data/FANTOM5_cage_peak_type_tbl.tsv\"\n",
    "\n",
    "### Parses the file containing the peak types for each feature and returns a dictionary with the feature id as key and the feature type as value\n",
    "### Like this:\n",
    "### {\n",
    "###    \"peak_1\": \"tss\",\n",
    "###    \"peak_2\": \"tss\",\n",
    "###    \"peak_3\": \"enhancer\",\n",
    "###    \"peak_4\": \"tss\",\n",
    "###     ...\n",
    "### }\n",
    "def parse_peak_type(path : str) -> dict[str, str]:\n",
    "    \"\"\"\n",
    "    Parse the peak type table.\n",
    "    \"\"\"\n",
    "    peak_type = {}\n",
    "    with open(path, \"r\") as f:\n",
    "        # consume the first line of the line iterators to skip the header\n",
    "        header = f.readline().strip()\n",
    "\n",
    "        # loop over the header\n",
    "        for line in f.readlines():\n",
    "            if line.startswith(\"#\"):\n",
    "                continue\n",
    "            line = line.strip().split(\"\\t\")\n",
    "            peak_type[line[0]] = line[1]\n",
    "    return peak_type"
   ]
  },
  {
   "cell_type": "code",
   "execution_count": 7,
   "metadata": {},
   "outputs": [],
   "source": [
    "# read the file.\n",
    "peak_types = parse_peak_type(FEATURE_TYPE_PATH)"
   ]
  },
  {
   "cell_type": "code",
   "execution_count": 8,
   "metadata": {},
   "outputs": [],
   "source": [
    "# Read the information about the cluster enriched in both CAGE and CTCF\n",
    "CLUSTERS_IN_ANALYSIS_PATH = \"../analysis_results/intersected.CLUS\"\n",
    "\n",
    "# Reading the clusters:\n",
    "clusters_in_analysis = parse_clus_file(CLUSTERS_IN_ANALYSIS_PATH)"
   ]
  },
  {
   "cell_type": "code",
   "execution_count": 9,
   "metadata": {},
   "outputs": [],
   "source": [
    "def count_peak_types(feature_names : str, peak_types : dict[str, str]) -> dict[str, int]:\n",
    "    \"\"\"\n",
    "    Count the number of peaks of each type.\n",
    "    \"\"\"\n",
    "    counts = {}\n",
    "    for feature_name in feature_names:\n",
    "        peak_type = peak_types.get(feature_name, \"\")\n",
    "        if peak_type == \"\":\n",
    "            continue\n",
    "\n",
    "        if peak_type not in counts:\n",
    "            counts[peak_type] = 0\n",
    "        counts[peak_type] += 1\n",
    "    return counts"
   ]
  },
  {
   "cell_type": "code",
   "execution_count": 10,
   "metadata": {},
   "outputs": [],
   "source": [
    "# Reading the features.\n",
    "features = pr.read_bed(\"../data/features/HMEC/CAGE/features.bed\")\n",
    "\n",
    "# the list keeping track of which genes are present in the features in analysis.\n",
    "peak_type_counts = {}\n",
    "\n",
    "# the list of overlapping features (features overlapping with each cluster)\n",
    "overlapping_features = []\n",
    "\n",
    "# For each cluster\n",
    "for chromo, clusters_names in clusters_in_analysis.items():\n",
    "    # Reading the clusters.\n",
    "    clusters = ClustersDescription(f\"../data/clusters/HMEC/{chromo}_spec_res.json\", chromo)\n",
    "    \n",
    "    # Looping over the cluster (strings)\n",
    "    for cluster in clusters_names:\n",
    "\n",
    "        # Getting the actual cluster object\n",
    "        cluster = clusters[cluster]\n",
    "\n",
    "        # Counting the overlaps\n",
    "        overlaps = cluster.find_overlaps(chromo, features)\n",
    "        overlaps_names = overlaps.Name.values.flatten()\n",
    "        \n",
    "        # Adding the overlaps to the list of overlapping features\n",
    "        overlapping_features.extend(overlaps_names)\n",
    "        overlapping_features = list(set(overlapping_features)) # removing duplicates\n",
    "\n",
    "# counting the peak types\n",
    "peak_type_counts = count_peak_types(overlapping_features, peak_types)"
   ]
  },
  {
   "cell_type": "code",
   "execution_count": 11,
   "metadata": {},
   "outputs": [
    {
     "data": {
      "text/plain": [
       "{'tss': 4501, 'enhancer': 582}"
      ]
     },
     "execution_count": 11,
     "metadata": {},
     "output_type": "execute_result"
    }
   ],
   "source": [
    "peak_type_counts"
   ]
  },
  {
   "cell_type": "code",
   "execution_count": 12,
   "metadata": {},
   "outputs": [
    {
     "data": {
      "text/plain": [
       "0.1293045989780049"
      ]
     },
     "execution_count": 12,
     "metadata": {},
     "output_type": "execute_result"
    }
   ],
   "source": [
    "peak_type_counts[\"tss\"]/peak_type_counts[\"enhancer\"]"
   ]
  },
  {
   "cell_type": "code",
   "execution_count": 13,
   "metadata": {},
   "outputs": [
    {
     "data": {
      "text/plain": [
       "0.23283343383760258"
      ]
     },
     "execution_count": 13,
     "metadata": {},
     "output_type": "execute_result"
    }
   ],
   "source": [
    "background_peak_type_counts = count_peak_types(features.Name.values.flatten(), peak_types)\n",
    "background_peak_type_counts[\"tss\"]/background_peak_type_counts[\"enhancer\"]"
   ]
  },
  {
   "cell_type": "code",
   "execution_count": 14,
   "metadata": {},
   "outputs": [],
   "source": [
    "#build the contingency table\n",
    "from scipy.stats import chi2_contingency\n",
    "contingency_table = [[peak_type_counts[\"enhancer\"], background_peak_type_counts[\"enhancer\"]],\n",
    "                        [peak_type_counts[\"tss\"], background_peak_type_counts[\"tss\"]]]\n",
    "\n",
    "#perform the test\n",
    "chi2, p, dof, expected = chi2_contingency(contingency_table)"
   ]
  },
  {
   "cell_type": "code",
   "execution_count": 18,
   "metadata": {},
   "outputs": [
    {
     "name": "stdout",
     "output_type": "stream",
     "text": [
      "Chi-squared test for enrichment of CAGE peaks in FANTOM5\n",
      "-------------------------------------------------------\n",
      "Chi-squared statistic: 176.32891322392476\n",
      "p-value: 3.0691088464711664e-40\n",
      "dof: 1\n",
      "-------------------------------------------------------\n"
     ]
    }
   ],
   "source": [
    "# Print the results nicely\n",
    "print(\"Chi-squared test for enrichment of CAGE peaks in FANTOM5\")\n",
    "print(\"-------------------------------------------------------\")\n",
    "print(f\"Chi-squared statistic: {chi2}\")\n",
    "print(f\"p-value: {p}\")\n",
    "print(f\"dof: {dof}\")\n",
    "print(\"-------------------------------------------------------\")"
   ]
  }
 ],
 "metadata": {
  "interpreter": {
   "hash": "f6a9dc70ef1d9ac109a6adb4c16e68d584d15afe2d26145e4986863f3d6029bd"
  },
  "kernelspec": {
   "display_name": "Python 3.10.3 64-bit",
   "language": "python",
   "name": "python3"
  },
  "language_info": {
   "codemirror_mode": {
    "name": "ipython",
    "version": 3
   },
   "file_extension": ".py",
   "mimetype": "text/x-python",
   "name": "python",
   "nbconvert_exporter": "python",
   "pygments_lexer": "ipython3",
   "version": "3.10.3"
  },
  "orig_nbformat": 4
 },
 "nbformat": 4,
 "nbformat_minor": 2
}
