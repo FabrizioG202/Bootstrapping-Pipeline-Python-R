{
 "cells": [
  {
   "cell_type": "code",
   "execution_count": 1,
   "metadata": {},
   "outputs": [],
   "source": [
    "from src.clus_files_io import tsv_to_clus_file\n",
    "\n",
    "CAGE_ENRICHED = \"../analysis_results/CAGE_enriched.tsv\"\n",
    "CTCF_ENRICHED = \"../analysis_results/CTCF_enriched.tsv\"\n",
    "\n",
    "# save a file named CAGE_enriched.CLUS\n",
    "tsv_to_clus_file(CAGE_ENRICHED, \"../analysis_results/CAGE_enriched.CLUS\")\n",
    "tsv_to_clus_file(CTCF_ENRICHED, \"../analysis_results/CTCF_enriched.CLUS\")"
   ]
  }
 ],
 "metadata": {
  "interpreter": {
   "hash": "f6a9dc70ef1d9ac109a6adb4c16e68d584d15afe2d26145e4986863f3d6029bd"
  },
  "kernelspec": {
   "display_name": "Python 3.10.3 64-bit",
   "language": "python",
   "name": "python3"
  },
  "language_info": {
   "codemirror_mode": {
    "name": "ipython",
    "version": 3
   },
   "file_extension": ".py",
   "mimetype": "text/x-python",
   "name": "python",
   "nbconvert_exporter": "python",
   "pygments_lexer": "ipython3",
   "version": "3.10.3"
  },
  "orig_nbformat": 4
 },
 "nbformat": 4,
 "nbformat_minor": 2
}
