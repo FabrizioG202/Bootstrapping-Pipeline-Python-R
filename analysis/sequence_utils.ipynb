{
 "cells": [
  {
   "cell_type": "code",
   "execution_count": 22,
   "metadata": {},
   "outputs": [],
   "source": [
    "from pyjaspar import jaspardb\n",
    "import pyjaspar.jaspar\n",
    "import requests\n",
    "import xml.etree.ElementTree as ET\n",
    "from src.cluster_description import Cluster, ClustersDescription\n",
    "import os\n",
    "\n",
    "def extract_sequence_from_position(chromosome : str, start : int, end : int) -> str:\n",
    "    \n",
    "    \"\"\"\n",
    "    Returns the sequence from the given position in the given chromosome using UCSC.\n",
    "    \"\"\"\n",
    "    \n",
    "    url = \"https://genome.ucsc.edu/cgi-bin/das/hg19/dna?segment={}:{},{}\".format(chromosome, start, end)\n",
    "    response = requests.get(url).text\n",
    "    \n",
    "    # Decode the response as XML\n",
    "    root = ET.fromstring(response)\n",
    "    \n",
    "    # Print all the elements in the XML\n",
    "    for element in root.iter():\n",
    "        if element.tag == \"DNA\":\n",
    "            return element.text.strip()\n",
    "\n",
    "def _cache_file_from_position(chromosome : str, start : int, end : int) -> str:    \n",
    "    return \"cache/{}_{}_{}.fa\".format(chromosome, start, end)\n",
    "\n",
    "class SequenceUtils:\n",
    "\n",
    "    @staticmethod\n",
    "    def get_coordinates(chromosome : str, start : int, end : int) -> tuple[str, bool]:\n",
    "        \"\"\" Checks if the given coordinates are cached and returns the sequence if they are, otherwise it downloads the sequence from UCSC and caches it. \n",
    "        Returns a tuple with the sequence and a boolean indicating whether the sequence was cached or not. \"\"\"\n",
    "\n",
    "        # Check if the coordinates are cached\n",
    "        cached_file = _cache_file_from_position(chromosome, start, end)\n",
    "\n",
    "        #Check that the cache directory exists\n",
    "        if not os.path.exists(\"cache\"):\n",
    "            os.makedirs(\"cache\")\n",
    "\n",
    "        # Try to retrieve it.\n",
    "        if os.path.isfile(cached_file):\n",
    "            # If they are, return the sequence\n",
    "            with open(cached_file, \"r\") as f:\n",
    "                seq = f.read().strip().replace(\"\\n\", \"\")\n",
    "            return seq, True\n",
    "        else:\n",
    "            # If they are not, download the sequence and cache it\n",
    "            sequence = extract_sequence_from_position(chromosome, start, end)\n",
    "            with open(cached_file, \"w\") as f:\n",
    "                f.write(sequence)\n",
    "            return sequence, False\n",
    "\n",
    "    @staticmethod\n",
    "    def query_human_motifs():\n",
    "        jaspar_database = jaspardb(release=\"JASPAR2022\")\n",
    "        motifs = jaspar_database.fetch_motifs(species=[\"9606\"])\n",
    "        return motifs\n",
    "\n",
    "    @staticmethod\n",
    "    def query_cluster_sequence(chromosome : str, cluster : Cluster) -> list[str]:\n",
    "        out = []\n",
    "\n",
    "        print(\"The following action will generate approximately {:.1f} MB of data. Please wait...\".format(cluster.total_length / (1024 * 1024)))\n",
    "        cached_num = 0\n",
    "\n",
    "        for start, end in cluster:\n",
    "            seq, cached = SequenceUtils.get_coordinates(chromosome, start, end)\n",
    "            if cached:\n",
    "                cached_num += 1\n",
    "            out.append(seq)\n",
    "\n",
    "        print(\"{} sequences were cached.\".format(cached_num))\n",
    "    \n",
    "        return out\n",
    "    \n",
    "    @staticmethod\n",
    "    def clear_cache():\n",
    "        if os.path.exists(\"cache\"):\n",
    "            for file in os.listdir(\"cache\"):\n",
    "                os.remove(os.path.join(\"cache\", file))\n",
    "            os.rmdir(\"cache\")\n",
    "\n",
    "    @staticmethod\n",
    "    def count_motif(motif : str, sequence : str) -> int:\n",
    "        \"\"\" Counts the number of times the given motif occurs in the given sequence. \"\"\"\n",
    "\n",
    "        # Count the number of times the motif occurs in the sequence\n",
    "        return sequence.count(motif)\n",
    "\n",
    "    @staticmethod\n",
    "    def count_all_motifs(sequence : str) -> dict[str, int]:\n",
    "        \"\"\" Counts the number of times all the motifs occur in the given sequence. \"\"\"\n",
    "\n",
    "        # Count the number of times all the motifs occur in the sequence\n",
    "        motifs = SequenceUtils.query_human_motifs()\n",
    "        out = {}\n",
    "        for motif in motifs:\n",
    "            out[motif.] = SequenceUtils.count_motif(motif.name, sequence)\n",
    "        return out"
   ]
  },
  {
   "cell_type": "code",
   "execution_count": 23,
   "metadata": {},
   "outputs": [],
   "source": [
    "chromo = \"chr16\"\n",
    "clusters = ClustersDescription(\"../data/clusters/HMEC/chr16_spec_res.json\", chromo)\n",
    "CLUSTER_NAME = \"50kb_13_78_85050000_85650000\""
   ]
  },
  {
   "cell_type": "code",
   "execution_count": 24,
   "metadata": {},
   "outputs": [
    {
     "name": "stdout",
     "output_type": "stream",
     "text": [
      "The following action will generate approximately 0.6 MB of data. Please wait...\n",
      "13 sequences were cached.\n",
      "650013\n"
     ]
    }
   ],
   "source": [
    "sequences = SequenceUtils.query_cluster_sequence(chromo, clusters[CLUSTER_NAME])\n",
    "full_sequence = \"\".join(sequences)\n",
    "print(len(full_sequence))"
   ]
  },
  {
   "cell_type": "code",
   "execution_count": 25,
   "metadata": {},
   "outputs": [],
   "source": [
    "SequenceUtils.clear_cache()"
   ]
  }
 ],
 "metadata": {
  "interpreter": {
   "hash": "f6a9dc70ef1d9ac109a6adb4c16e68d584d15afe2d26145e4986863f3d6029bd"
  },
  "kernelspec": {
   "display_name": "Python 3.10.3 64-bit",
   "language": "python",
   "name": "python3"
  },
  "language_info": {
   "codemirror_mode": {
    "name": "ipython",
    "version": 3
   },
   "file_extension": ".py",
   "mimetype": "text/x-python",
   "name": "python",
   "nbconvert_exporter": "python",
   "pygments_lexer": "ipython3",
   "version": "3.10.3"
  },
  "orig_nbformat": 4
 },
 "nbformat": 4,
 "nbformat_minor": 2
}
