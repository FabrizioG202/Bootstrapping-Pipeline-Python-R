{
 "cells": [
  {
   "cell_type": "code",
   "execution_count": 21,
   "metadata": {},
   "outputs": [],
   "source": [
    "FANTOM_TYPE_PATH = \"./data/FANTOM5_cage_peak_type_tbl.tsv\"\n",
    "\n",
    "# parse the path\n",
    "def parse_fantom_type(path : str) -> dict[str, str]:\n",
    "    \"\"\"\n",
    "    Parses the FANTOM5_cage_peak_type_tbl.tsv file and returns a dictionary of peak type to peak type description.\n",
    "    \"\"\"\n",
    "    results : dict[str, str] = {}\n",
    "\n",
    "    # Open and read\n",
    "    with open(path, \"r\") as f:\n",
    "        lines = f.readlines()\n",
    "        lines = lines[1:] # remove the header\n",
    "        for line in lines:\n",
    "            entry_name = line.split(\"\\t\")[0].strip()\n",
    "            peak_type = line.split(\"\\t\")[1].strip()\n",
    "            results[entry_name] = peak_type\n",
    "\n",
    "    # Return the results\n",
    "    return results"
   ]
  },
  {
   "cell_type": "code",
   "execution_count": 27,
   "metadata": {},
   "outputs": [],
   "source": [
    "def histogram(sets: list[str]) -> dict[str, int]:\n",
    "    results = {}\n",
    "    for set_ in sets:\n",
    "        if set_ not in results:\n",
    "            results[set_] = 0\n",
    "        results[set_] += 1\n",
    "    return results"
   ]
  },
  {
   "cell_type": "code",
   "execution_count": 12,
   "metadata": {},
   "outputs": [],
   "source": [
    "from src.cluster_description import Cluster, ClustersDescription\n",
    "import pyranges as pr"
   ]
  },
  {
   "cell_type": "code",
   "execution_count": 22,
   "metadata": {},
   "outputs": [],
   "source": [
    "fantom_types = parse_fantom_type(FANTOM_TYPE_PATH)\n",
    "\n",
    "chromo = \"chr16\"\n",
    "clusters = ClustersDescription(f\"../data/clusters/HMEC/{chromo}_spec_res.json\", chromo)\n",
    "cluster = clusters[\"500kb_35_595_56500000_90000000\"]"
   ]
  },
  {
   "cell_type": "code",
   "execution_count": 23,
   "metadata": {},
   "outputs": [],
   "source": [
    "# Features\n",
    "features_path = \"../data/features/HMEC/CAGE/features.bed\"\n",
    "features = pr.read_bed(features_path)"
   ]
  },
  {
   "cell_type": "code",
   "execution_count": 24,
   "metadata": {},
   "outputs": [],
   "source": [
    "# Counting the overlaps\n",
    "overlaps = cluster.find_overlaps(chromo, features)"
   ]
  },
  {
   "cell_type": "code",
   "execution_count": 31,
   "metadata": {},
   "outputs": [],
   "source": [
    "#Classigying the entries:\n",
    "names = overlaps.Name.values.flatten()\n",
    "\n",
    "values = []\n",
    "for name in names:\n",
    "    if name in fantom_types:\n",
    "        values.append(fantom_types[name])"
   ]
  },
  {
   "cell_type": "code",
   "execution_count": 34,
   "metadata": {},
   "outputs": [],
   "source": [
    "ENRICHED_BOTH_PATH = \"../data/enriched_clusters_for_all_chromosomes.txt\"\n",
    "\n",
    "def read_enriched_both(path: str) -> dict[str: list[str]]:\n",
    "    results: dict[str: list[str]] = {}\n",
    "    chromosome = None\n",
    "    with open(path, \"r\") as f:\n",
    "        for line in f:\n",
    "            if line.startswith(\"chr\"):\n",
    "                chromosome = line.strip()\n",
    "                results[chromosome] = []\n",
    "                continue\n",
    "            results[chromosome].append(line.strip())\n",
    "    return results"
   ]
  },
  {
   "cell_type": "code",
   "execution_count": 38,
   "metadata": {},
   "outputs": [],
   "source": [
    "enriched_both = read_enriched_both(ENRICHED_BOTH_PATH)"
   ]
  },
  {
   "cell_type": "code",
   "execution_count": 41,
   "metadata": {},
   "outputs": [
    {
     "name": "stdout",
     "output_type": "stream",
     "text": [
      "chr16 60\n",
      "{'tss': 60}\n",
      "chr16 23\n",
      "{'tss': 23}\n",
      "chr16 538\n",
      "{'tss': 538}\n",
      "chr16 185\n",
      "{'tss': 185}\n",
      "chr16 101\n",
      "{'tss': 101}\n",
      "chr16 29\n",
      "{'tss': 29}\n",
      "chr16 898\n",
      "{'tss': 898}\n",
      "chr19 251\n",
      "{'tss': 251}\n",
      "chr19 668\n",
      "{'tss': 668}\n",
      "chr19 114\n",
      "{'tss': 114}\n",
      "chr19 456\n",
      "{'tss': 456}\n",
      "chr19 3603\n",
      "{'tss': 3603}\n",
      "chr19 43\n",
      "{'tss': 43}\n",
      "chr19 935\n",
      "{'tss': 935}\n",
      "chr19 762\n",
      "{'tss': 762}\n",
      "chr19 131\n",
      "{'tss': 131}\n",
      "chr19 1166\n",
      "{'tss': 1166}\n",
      "chr19 1928\n",
      "{'tss': 1928}\n",
      "chr19 72\n",
      "{'tss': 72}\n",
      "chr19 1675\n",
      "{'tss': 1675}\n"
     ]
    }
   ],
   "source": [
    "for chromo, _clusters in enriched_both.items():\n",
    "    clusters = ClustersDescription(f\"../data/clusters/HMEC/{chromo}_spec_res.json\", chromo)\n",
    "    for cluster in _clusters:\n",
    "        cluster = clusters[cluster]\n",
    "\n",
    "        overlaps = cluster.find_overlaps(chromo, features)\n",
    "\n",
    "        names = overlaps.Name.values.flatten()\n",
    "\n",
    "        values = []\n",
    "        for name in names:\n",
    "            if name in fantom_types:\n",
    "                values.append(fantom_types[name])\n",
    "        \n",
    "        print(chromo, len(values))\n",
    "        print(histogram(values))"
   ]
  }
 ],
 "metadata": {
  "interpreter": {
   "hash": "f6a9dc70ef1d9ac109a6adb4c16e68d584d15afe2d26145e4986863f3d6029bd"
  },
  "kernelspec": {
   "display_name": "Python 3.10.3 64-bit",
   "language": "python",
   "name": "python3"
  },
  "language_info": {
   "codemirror_mode": {
    "name": "ipython",
    "version": 3
   },
   "file_extension": ".py",
   "mimetype": "text/x-python",
   "name": "python",
   "nbconvert_exporter": "python",
   "pygments_lexer": "ipython3",
   "version": "3.10.3"
  },
  "orig_nbformat": 4
 },
 "nbformat": 4,
 "nbformat_minor": 2
}
