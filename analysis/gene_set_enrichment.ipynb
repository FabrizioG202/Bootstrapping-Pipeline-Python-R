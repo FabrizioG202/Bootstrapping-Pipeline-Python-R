{
 "cells": [
  {
   "cell_type": "code",
   "execution_count": 14,
   "metadata": {},
   "outputs": [],
   "source": [
    "GMT_PATH = \"./data/c5.go.bp.v7.5.1.entrez.gmt\"\n",
    "from src.cluster_description import Cluster, ClustersDescription\n",
    "\n",
    "def parse_gmt(path : str) -> dict[tuple[str, str]]:    \n",
    "    # Create a dictionary to store the results\n",
    "    results = {}\n",
    "    \n",
    "    # Open the GMT file\n",
    "    with open(path, \"r\") as f:\n",
    "        # For each line in the file\n",
    "        for line in f:\n",
    "            # Split the line into a list of words\n",
    "            words = line.split(\"\\t\")\n",
    "\n",
    "            # The motif name\n",
    "            gene_set = words[0]\n",
    "            link = words[1]\n",
    "            genes = words[2:]\n",
    "            # strip each gene\n",
    "            genes = [gene.strip() for gene in genes]\n",
    "\n",
    "            # Add the gene set to the dictionary\n",
    "            results[gene_set] = [link, genes]\n",
    "    \n",
    "    # Return the results\n",
    "    return results"
   ]
  },
  {
   "cell_type": "code",
   "execution_count": 49,
   "metadata": {},
   "outputs": [],
   "source": [
    "clusters = ClustersDescription(\"../data/clusters/HMEC/chr16_spec_res.json\", \"chr16\")\n",
    "cluster = clusters[\"500kb_16_120_56500000_75000000\"]"
   ]
  },
  {
   "cell_type": "code",
   "execution_count": 50,
   "metadata": {},
   "outputs": [],
   "source": [
    "import pyranges as pr"
   ]
  },
  {
   "cell_type": "code",
   "execution_count": 51,
   "metadata": {},
   "outputs": [],
   "source": [
    "features = pr.read_bed(\"../data/features/HMEC/CAGE/features.bed\")\n",
    "overlaps = cluster.find_overlaps(\"chr16\", features)"
   ]
  },
  {
   "cell_type": "code",
   "execution_count": 53,
   "metadata": {},
   "outputs": [],
   "source": [
    "FANTOM_PATH = \"./data/FANTOM5_CAGE_peak_entrez_gene_tbl.tsv\"\n",
    "\n",
    "# read the table from the path\n",
    "def parse_fantom_data(path : str) -> dict[str, list[str]]:\n",
    "    # Create a dictionary to store the results\n",
    "    results : dict[str, list[str]] = {}\n",
    "\n",
    "    header_found = False\n",
    "\n",
    "    # Open the file\n",
    "    with open(path, \"r\") as f:\n",
    "        # For each line in the file\n",
    "        for line in f:\n",
    "            # Go to the next line if it starts with a #\n",
    "            if line.startswith(\"#\"): continue\n",
    "\n",
    "            # deal with the header\n",
    "            if not header_found:\n",
    "                header_found = True\n",
    "                continue\n",
    "\n",
    "            # Split the line into a list of words\n",
    "            words = line.split(\"\\t\")\n",
    "            cage_id = words[0].strip()\n",
    "            entrez_id = words[1].strip()\n",
    "\n",
    "            if entrez_id not in results:\n",
    "                results[cage_id] = []\n",
    "            \n",
    "            results[cage_id].append(entrez_id)\n",
    "\n",
    "    # Return the results\n",
    "    return results"
   ]
  },
  {
   "cell_type": "code",
   "execution_count": 52,
   "metadata": {},
   "outputs": [],
   "source": [
    "cage_to_entrez = parse_fantom_data(FANTOM_PATH)"
   ]
  },
  {
   "cell_type": "code",
   "execution_count": 55,
   "metadata": {},
   "outputs": [],
   "source": [
    "# The names of the overlapping ranges\n",
    "names = overlaps.Name.values.flatten()\n",
    "\n",
    "# The entrez ids of the overlapping ranges\n",
    "entrez_ids = [cage_to_entrez[name][0] for name in names if name in cage_to_entrez]\n",
    "\n",
    "# Remove the NAs\n",
    "entrez_ids = [entrez_id for entrez_id in entrez_ids if entrez_id != \"NA\"]"
   ]
  },
  {
   "cell_type": "code",
   "execution_count": 57,
   "metadata": {},
   "outputs": [],
   "source": [
    "gmt = parse_gmt(GMT_PATH)"
   ]
  },
  {
   "cell_type": "code",
   "execution_count": 58,
   "metadata": {},
   "outputs": [],
   "source": [
    "def get_ontology_group(entrez_id : str, gmt : dict[str, list[str]]) -> str:\n",
    "    for gene_set, (link, genes) in gmt.items():\n",
    "        if entrez_id in genes:\n",
    "            return gene_set\n",
    "    return None\n",
    "\n",
    "sets = []\n",
    "for entrez_id in entrez_ids:\n",
    "    group = get_ontology_group(entrez_id[0], gmt)\n",
    "    if group is not None:\n",
    "        sets.append(group)"
   ]
  },
  {
   "cell_type": "code",
   "execution_count": 60,
   "metadata": {},
   "outputs": [],
   "source": [
    "def histogram(sets : list[str]) -> dict[str, int]:\n",
    "    results = {}\n",
    "    for set_ in sets:\n",
    "        if set_ not in results:\n",
    "            results[set_] = 0\n",
    "        results[set_] += 1\n",
    "    return results"
   ]
  },
  {
   "cell_type": "code",
   "execution_count": 61,
   "metadata": {},
   "outputs": [
    {
     "data": {
      "text/plain": [
       "{'GOBP_XENOBIOTIC_METABOLIC_PROCESS': 37, 'GOBP_REPRODUCTION': 35}"
      ]
     },
     "execution_count": 61,
     "metadata": {},
     "output_type": "execute_result"
    }
   ],
   "source": [
    "histogram(sets)"
   ]
  },
  {
   "cell_type": "code",
   "execution_count": 64,
   "metadata": {},
   "outputs": [],
   "source": [
    "class GeneSetEnrichment:\n",
    "    gmt : dict[str, list[str]]\n",
    "    cage_to_entrez : dict[str, list[str]]\n",
    "    features : pr.PyRanges\n",
    "\n",
    "    def __init__(self, gmt_path : str, cage_to_entrez_path : str, features_path : str):\n",
    "        self.gmt = parse_gmt(gmt_path)\n",
    "        self.cage_to_entrez = parse_fantom_data(cage_to_entrez_path)\n",
    "        self.features = pr.read_bed(features_path)\n",
    "\n",
    "    def get_gene_set(self, cluster : Cluster, chromosome : str) -> str:\n",
    "        # The features overlapping with this cluster\n",
    "        overlaps = cluster.find_overlaps(chromosome, self.features)\n",
    "\n",
    "        # The names of the overlapping features\n",
    "        names = overlaps.Name.values.flatten()\n",
    "\n",
    "        # The entrez ids of the overlapping features\n",
    "        entrez_ids = [self.cage_to_entrez[name][0] for name in names if name in self.cage_to_entrez]\n",
    "\n",
    "        # Remove the NAs\n",
    "        entrez_ids = [entrez_id for entrez_id in entrez_ids if entrez_id != \"NA\"]\n",
    "\n",
    "        # The ontology groups of the overlapping genes\n",
    "        sets = []\n",
    "        for entrez_id in entrez_ids:\n",
    "            group = get_ontology_group(entrez_id[0], self.gmt)\n",
    "            if group is not None:\n",
    "                sets.append(group)\n",
    "        \n",
    "        # Return the histogram of the ontology groups\n",
    "        return histogram(sets)\n"
   ]
  },
  {
   "cell_type": "code",
   "execution_count": 67,
   "metadata": {},
   "outputs": [
    {
     "data": {
      "text/plain": [
       "{'GOBP_XENOBIOTIC_METABOLIC_PROCESS': 59, 'GOBP_REPRODUCTION': 77}"
      ]
     },
     "execution_count": 67,
     "metadata": {},
     "output_type": "execute_result"
    }
   ],
   "source": [
    "geneset_enrichment = GeneSetEnrichment(GMT_PATH, FANTOM_PATH, \"../data/features/HMEC/CAGE/features.bed\")\n",
    "chromo = \"chr16\"\n",
    "clusters = ClustersDescription(f\"../data/clusters/HMEC/{chromo}_spec_res.json\", chromo)\n",
    "cluster = clusters[\"500kb_35_595_56500000_90000000\"]\n",
    "geneset_enrichment.get_gene_set(cluster, chromo)"
   ]
  }
 ],
 "metadata": {
  "interpreter": {
   "hash": "f6a9dc70ef1d9ac109a6adb4c16e68d584d15afe2d26145e4986863f3d6029bd"
  },
  "kernelspec": {
   "display_name": "Python 3.10.3 64-bit",
   "language": "python",
   "name": "python3"
  },
  "language_info": {
   "codemirror_mode": {
    "name": "ipython",
    "version": 3
   },
   "file_extension": ".py",
   "mimetype": "text/x-python",
   "name": "python",
   "nbconvert_exporter": "python",
   "pygments_lexer": "ipython3",
   "version": "3.10.3"
  },
  "orig_nbformat": 4
 },
 "nbformat": 4,
 "nbformat_minor": 2
}
