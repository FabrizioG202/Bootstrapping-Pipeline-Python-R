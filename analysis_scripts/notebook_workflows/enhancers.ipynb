{
 "cells": [
  {
   "cell_type": "code",
   "execution_count": null,
   "metadata": {},
   "outputs": [],
   "source": [
    "# General Information\n",
    "import pyranges as pr\n",
    "import numpy as np\n",
    "import pandas as pd"
   ]
  },
  {
   "cell_type": "code",
   "execution_count": null,
   "metadata": {},
   "outputs": [],
   "source": [
    "# The crayon function.\n",
    "def red(text : object) -> str:\n",
    "    return \"\\033[31m\" + str(text) + \"\\033[0m\"\n",
    "\n",
    "#the blue color\n",
    "def blue(text : object) -> str:\n",
    "    return \"\\033[34m\" + str(text) + \"\\033[0m\"\n",
    "\n",
    "#the green color\n",
    "def green(text : object) -> str:\n",
    "    return \"\\033[32m\" + str(text) + \"\\033[0m\"\n",
    "\n",
    "#the yellow color\n",
    "def yellow(text : object) -> str:\n",
    "    return \"\\033[33m\" + str(text) + \"\\033[0m\"\n",
    "\n",
    "#the cyan color\n",
    "def cyan(text : object) -> str:\n",
    "    return \"\\033[36m\" + str(text) + \"\\033[0m\"\n",
    "\n",
    "# the magenta color\n",
    "def magenta(text : object) -> str:\n",
    "    return \"\\033[35m\" + str(text) + \"\\033[0m\"\n",
    "\n",
    "# green background\n",
    "def green_background(text : object) -> str:\n",
    "    return \"\\033[42m\" + str(text) + \"\\033[0m\"\n",
    "\n",
    "# red background\n",
    "def red_background(text : object) -> str:\n",
    "    return \"\\033[41m\" + str(text) + \"\\033[0m\"\n",
    "\n",
    "# bold\n",
    "def bold(text : object) -> str:\n",
    "    return \"\\033[1m\" + str(text) + \"\\033[0m\"\n",
    "\n",
    "# underline\n",
    "def underline(text : object) -> str:\n",
    "    return \"\\033[4m\" + str(text) + \"\\033[0m\"\n",
    "\n",
    "def italic(text : object) -> str:\n",
    "    return \"\\033[3m\" + str(text) + \"\\033[0m\"\n",
    "\n",
    "# white background\n",
    "def white_background(text : object) -> str:\n",
    "    return \"\\033[47m\" + str(text) + \"\\033[0m\""
   ]
  },
  {
   "cell_type": "markdown",
   "metadata": {},
   "source": [
    "# Reading the enhancers files."
   ]
  },
  {
   "cell_type": "code",
   "execution_count": null,
   "metadata": {},
   "outputs": [],
   "source": [
    "ENHANCERS_INSIDE = \"../../analysis_scripts/enhancers_inside.bed\"\n",
    "ENHANCERS_OUTSIDE = \"../../analysis_scripts/enhancers_outside.bed\"\n",
    "\n",
    "enhancers_inside = pr.read_bed(ENHANCERS_INSIDE)\n",
    "enhancers_outside = pr.read_bed(ENHANCERS_OUTSIDE)"
   ]
  },
  {
   "cell_type": "markdown",
   "metadata": {},
   "source": [
    "# Analysis\n",
    "## Enhancer Length"
   ]
  },
  {
   "cell_type": "code",
   "execution_count": null,
   "metadata": {},
   "outputs": [],
   "source": [
    "# Print the average length of the enhancers inside and outside.\n",
    "print(f\"Mean length of enhancers outside: {enhancers_outside.lengths().mean():.2f}bp\")\n",
    "print(f\"Mean length of enhancers inside: {enhancers_inside.lengths().mean():.2f}bp\")"
   ]
  },
  {
   "cell_type": "code",
   "execution_count": null,
   "metadata": {},
   "outputs": [],
   "source": [
    "# Distribution of lengths, use plotly to plot the histogram and plot the lenght of the enhancers inside and outside side by side.\n",
    "import plotly.graph_objects as go\n",
    "\n",
    "fig = go.Figure()\n",
    "fig.add_trace(go.Histogram(x=enhancers_outside.lengths(), name=\"Outside\"))\n",
    "fig.add_trace(go.Histogram(x=enhancers_inside.lengths(), name=\"Inside\"))\n",
    "fig.update_layout(barmode=\"overlay\")\n",
    "fig.show()"
   ]
  }
 ],
 "metadata": {
  "interpreter": {
   "hash": "f6a9dc70ef1d9ac109a6adb4c16e68d584d15afe2d26145e4986863f3d6029bd"
  },
  "kernelspec": {
   "display_name": "Python 3.10.3 64-bit",
   "language": "python",
   "name": "python3"
  },
  "language_info": {
   "codemirror_mode": {
    "name": "ipython",
    "version": 3
   },
   "file_extension": ".py",
   "mimetype": "text/x-python",
   "name": "python",
   "nbconvert_exporter": "python",
   "pygments_lexer": "ipython3",
   "version": "3.10.3"
  },
  "orig_nbformat": 4
 },
 "nbformat": 4,
 "nbformat_minor": 2
}
